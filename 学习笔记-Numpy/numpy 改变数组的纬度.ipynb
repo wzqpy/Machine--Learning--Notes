{
 "cells": [
  {
   "cell_type": "markdown",
   "metadata": {},
   "source": [
    "# 改变数组的纬度\n",
    "ravel\n",
    "\n",
    "flatten\n",
    "\n",
    "reshape\n",
    "\n",
    "resize"
   ]
  },
  {
   "cell_type": "markdown",
   "metadata": {},
   "source": [
    "## shape函数"
   ]
  },
  {
   "cell_type": "code",
   "execution_count": 2,
   "metadata": {},
   "outputs": [
    {
     "name": "stdout",
     "output_type": "stream",
     "text": [
      "[[ 6  8 10]\n",
      " [14 12 18]]\n",
      "(2, 3)\n",
      "2\n",
      "3\n"
     ]
    }
   ],
   "source": [
    "# 相关函数笔记\n",
    "import numpy as np\n",
    "X = np.array([[6, 8, 10],[14,12,18]]) # 多行矩阵需注意括号\n",
    "print(X) \n",
    "print(X.shape)      # 矩阵的行数列数\n",
    "print(X.shape[0]) \n",
    "print(X.shape[1])  "
   ]
  },
  {
   "cell_type": "markdown",
   "metadata": {},
   "source": [
    "## reshape函数"
   ]
  },
  {
   "cell_type": "code",
   "execution_count": 3,
   "metadata": {},
   "outputs": [
    {
     "name": "stdout",
     "output_type": "stream",
     "text": [
      "[[ 6  8 10 14 12 18]]\n"
     ]
    }
   ],
   "source": [
    "# numpy.arange(a,b,c).reshape(m,n)  将array的维度变为m 行 n列。\n",
    "# 注意当转换成单行、单列时需要有-1出现\n",
    "X = np.array([[6, 8, 10],[14,12,18]]).reshape(1,-1)  \n",
    "print(X) "
   ]
  },
  {
   "cell_type": "markdown",
   "metadata": {},
   "source": [
    "### 简单总结\n",
    "\n",
    "reshape(1,-1)转化成1行；\n",
    "\n",
    "reshape(2,-1)转换成两行；\n",
    "\n",
    "reshape(-1,1)转换成1列；\n",
    "\n",
    "reshape(-1,2)转化成两列；\n"
   ]
  },
  {
   "cell_type": "code",
   "execution_count": 4,
   "metadata": {},
   "outputs": [
    {
     "name": "stdout",
     "output_type": "stream",
     "text": [
      "[[0 1 2 3 4]\n",
      " [5 6 7 8 9]]\n",
      "[[0 5]\n",
      " [1 6]\n",
      " [2 7]\n",
      " [3 8]\n",
      " [4 9]]\n"
     ]
    }
   ],
   "source": [
    "# 注意这里的 reshape里面的行和列需要和前面的数据量对上\n",
    "y = np.arange(10).reshape(2,5)  \n",
    "print(y)  \n",
    "# 转置矩阵\n",
    "print(y.transpose())           "
   ]
  },
  {
   "cell_type": "code",
   "execution_count": null,
   "metadata": {},
   "outputs": [],
   "source": []
  }
 ],
 "metadata": {
  "kernelspec": {
   "display_name": "Python 3",
   "language": "python",
   "name": "python3"
  },
  "language_info": {
   "codemirror_mode": {
    "name": "ipython",
    "version": 3
   },
   "file_extension": ".py",
   "mimetype": "text/x-python",
   "name": "python",
   "nbconvert_exporter": "python",
   "pygments_lexer": "ipython3",
   "version": "3.7.6"
  }
 },
 "nbformat": 4,
 "nbformat_minor": 4
}
